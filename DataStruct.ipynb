{
 "cells": [
  {
   "cell_type": "markdown",
   "metadata": {},
   "source": [
    "## 数据结构\n",
    "\n"
   ]
  },
  {
   "cell_type": "code",
   "execution_count": 1,
   "metadata": {},
   "outputs": [],
   "source": [
    "import pandas as pd\n",
    "import numpy as np "
   ]
  },
  {
   "cell_type": "markdown",
   "metadata": {},
   "source": [
    "### Series\n",
    "\n",
    "* Series Series是一个带有索引和名称的以为数组对象，该数组的类型可以是int、string或者是Python 对象\n",
    "```\n",
    "s = pd.Series(data, index=index)\n",
    "```\n",
    "\n",
    "__如果 data 是一个 ndarray，那么 index 也必须和 data 是相同的长度。__"
   ]
  },
  {
   "cell_type": "code",
   "execution_count": 12,
   "metadata": {},
   "outputs": [
    {
     "name": "stdout",
     "output_type": "stream",
     "text": [
      "a    0.784977\n",
      "b    0.762775\n",
      "c    0.770313\n",
      "e    0.850738\n",
      "f    0.329592\n",
      "dtype: float64\n",
      "--------------\n",
      "a    1\n",
      "b    2\n",
      "c    3\n",
      "d    4\n",
      "dtype: int64\n",
      "--------------\n"
     ]
    },
    {
     "data": {
      "text/plain": [
       "A    5\n",
       "B    5\n",
       "C    5\n",
       "dtype: int64"
      ]
     },
     "execution_count": 12,
     "metadata": {},
     "output_type": "execute_result"
    }
   ],
   "source": [
    "\n",
    "# 根据 ndarray 创建 Series\n",
    "s = pd.Series(np.random.rand(5), index= ['a','b','c','e','f'])\n",
    "print(s)\n",
    "print(\"--------------\")\n",
    "\n",
    "# 根据字典创建 Series\n",
    "d = {'a':1,'b':2,'c':3,'d':4}\n",
    "s = pd.Series(d)\n",
    "print(s)\n",
    "print(\"--------------\")\n",
    "\n",
    "# 常数创建 Series\n",
    "pd.Series(5,index= ['A','B','C'])\n"
   ]
  },
  {
   "cell_type": "markdown",
   "metadata": {},
   "source": [
    "Series 是一个类似于 ndarray 的对象，多数情况下它可以当参数传递给 Numpy 函数，但是对于切片操作\n",
    "Series 依然还是基于索引进行切片\n",
    "\n",
    "Pandas 的 Series对象 扩展了 Numpy 的类型系统，在Pandas中 dtype 是 ExtensionDtype 对象，它还是扩展出了 Categorial 类型和 Nullable Integer 类型\n",
    "\n",
    "Pandas 利用 to_numpy() 方法将一个 Series 转化为 array 对象"
   ]
  },
  {
   "cell_type": "code",
   "execution_count": 19,
   "metadata": {},
   "outputs": [
    {
     "data": {
      "text/plain": [
       "array([1, 2, 3, 4], dtype=int64)"
      ]
     },
     "execution_count": 19,
     "metadata": {},
     "output_type": "execute_result"
    }
   ],
   "source": [
    "s[s > s.mean()]\n",
    "\n",
    "s.to_numpy()"
   ]
  },
  {
   "cell_type": "markdown",
   "metadata": {},
   "source": [
    "Series 同样可以视为一个固定大小的字典，可以使用 key - value 形式访问"
   ]
  },
  {
   "cell_type": "code",
   "execution_count": 27,
   "metadata": {},
   "outputs": [
    {
     "name": "stdout",
     "output_type": "stream",
     "text": [
      "False\n"
     ]
    },
    {
     "data": {
      "text/plain": [
       "nan"
      ]
     },
     "execution_count": 27,
     "metadata": {},
     "output_type": "execute_result"
    }
   ],
   "source": [
    "# 利用 key 获取数据\n",
    "s['a']\n",
    "\n",
    "# 判断 f 是否在 是中\n",
    "print('f' in s )\n",
    "\n",
    "# 如果 key 不在s 中，直接访问则会抛出异常，可以利用 get方法获取默认值\n",
    "# s['gg']\n",
    "\n",
    "s.get('gg',np.nan)"
   ]
  },
  {
   "cell_type": "code",
   "execution_count": 40,
   "metadata": {},
   "outputs": [
    {
     "name": "stdout",
     "output_type": "stream",
     "text": [
      "-----------\n",
      "a    2\n",
      "b    4\n",
      "c    6\n",
      "d    8\n",
      "dtype: int64\n",
      "-----log------\n",
      "a    0.000000\n",
      "b    0.693147\n",
      "c    1.098612\n",
      "d    1.386294\n",
      "dtype: float64\n",
      "-----exp------\n",
      "a     2.718282\n",
      "b     7.389056\n",
      "c    20.085537\n",
      "d    54.598150\n",
      "dtype: float64\n",
      "----- * 2 ------\n",
      "a    2\n",
      "b    4\n",
      "c    6\n",
      "d    8\n",
      "dtype: int64\n",
      "----- Index 对齐 ------\n"
     ]
    },
    {
     "data": {
      "text/plain": [
       "a    1\n",
       "b    2\n",
       "c    3\n",
       "d    4\n",
       "Name: different_Name, dtype: int64"
      ]
     },
     "execution_count": 40,
     "metadata": {},
     "output_type": "execute_result"
    }
   ],
   "source": [
    "# 对序列进行向量化操作\n",
    "print(\"-----------\")\n",
    "print(s + s)\n",
    "\n",
    "print(\"-----log------\")\n",
    "print(np.log(s))\n",
    "\n",
    "print(\"-----exp------\")\n",
    "print(np.exp(s))\n",
    "\n",
    "print(\"----- * 2 ------\")\n",
    "print(s * 2 )\n",
    "\n",
    "# 不同的 Series 计算，会根据 Index自动对齐，不必考虑不同 Series 之间如何对齐\n",
    "# 对于无法对齐的列以 NaN 填充，最终返回的两个 Series 合并后的结果\n",
    "\n",
    "print(\"----- Index 对齐 ------\")\n",
    "s[1:]  + s[:-1]\n",
    "\n",
    "# Series 同样有用一个name， DataFrame 中的 Series 名称就是列名，Series可以通过 rename 修改名称\n",
    "s.rename('different_Name')"
   ]
  },
  {
   "cell_type": "markdown",
   "metadata": {},
   "source": [
    "### DataFrame \n",
    "DataFrame 是一个 2维表格，每一列可以拥有多个数据列，数据列之间的数据类型可以不同。"
   ]
  },
  {
   "cell_type": "code",
   "execution_count": 46,
   "metadata": {},
   "outputs": [
    {
     "name": "stdout",
     "output_type": "stream",
     "text": [
      "   one  two\n",
      "a  1.0  1.0\n",
      "b  2.0  2.0\n",
      "c  3.0  3.0\n",
      "d  NaN  4.0\n"
     ]
    },
    {
     "data": {
      "text/html": [
       "<div>\n",
       "<style scoped>\n",
       "    .dataframe tbody tr th:only-of-type {\n",
       "        vertical-align: middle;\n",
       "    }\n",
       "\n",
       "    .dataframe tbody tr th {\n",
       "        vertical-align: top;\n",
       "    }\n",
       "\n",
       "    .dataframe thead th {\n",
       "        text-align: right;\n",
       "    }\n",
       "</style>\n",
       "<table border=\"1\" class=\"dataframe\">\n",
       "  <thead>\n",
       "    <tr style=\"text-align: right;\">\n",
       "      <th></th>\n",
       "      <th>two</th>\n",
       "      <th>Three</th>\n",
       "    </tr>\n",
       "  </thead>\n",
       "  <tbody>\n",
       "    <tr>\n",
       "      <th>b</th>\n",
       "      <td>2.0</td>\n",
       "      <td>NaN</td>\n",
       "    </tr>\n",
       "    <tr>\n",
       "      <th>c</th>\n",
       "      <td>3.0</td>\n",
       "      <td>NaN</td>\n",
       "    </tr>\n",
       "    <tr>\n",
       "      <th>d</th>\n",
       "      <td>4.0</td>\n",
       "      <td>NaN</td>\n",
       "    </tr>\n",
       "  </tbody>\n",
       "</table>\n",
       "</div>"
      ],
      "text/plain": [
       "   two Three\n",
       "b  2.0   NaN\n",
       "c  3.0   NaN\n",
       "d  4.0   NaN"
      ]
     },
     "execution_count": 46,
     "metadata": {},
     "output_type": "execute_result"
    }
   ],
   "source": [
    "# 基于字典创建DataFrame\n",
    "# 如果创建DataFrame时 没有设置 columns ，那么DataFrame的列名就是 字典的key\n",
    "\n",
    "d = {\n",
    "    'one': pd.Series([1.0, 2.0, 3.0],index= ['a','b','c']),\n",
    "    \"two\": pd.Series([1.0, 2.0, 3.0, 4.0], index= ['a','b','c','d'])\n",
    "}\n",
    "\n",
    "df = pd.DataFrame(d)\n",
    "print(df)\n",
    "\n",
    "\n",
    "pd.DataFrame(d,index=['b','c','d'],columns=['two','Three'])\n",
    "\n",
    "\n"
   ]
  },
  {
   "cell_type": "code",
   "execution_count": null,
   "metadata": {},
   "outputs": [],
   "source": []
  },
  {
   "cell_type": "markdown",
   "metadata": {},
   "source": []
  }
 ],
 "metadata": {
  "kernelspec": {
   "display_name": "base",
   "language": "python",
   "name": "python3"
  },
  "language_info": {
   "codemirror_mode": {
    "name": "ipython",
    "version": 3
   },
   "file_extension": ".py",
   "mimetype": "text/x-python",
   "name": "python",
   "nbconvert_exporter": "python",
   "pygments_lexer": "ipython3",
   "version": "3.8.3"
  },
  "orig_nbformat": 4
 },
 "nbformat": 4,
 "nbformat_minor": 2
}
